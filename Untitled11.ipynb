{
 "cells": [
  {
   "cell_type": "code",
   "execution_count": null,
   "metadata": {
    "collapsed": true
   },
   "outputs": [],
   "source": [
    "#Complete code is written in python 3 so use python 3 to execute"
   ]
  },
  {
   "cell_type": "code",
   "execution_count": null,
   "metadata": {
    "collapsed": true
   },
   "outputs": [],
   "source": [
    "#libraries pandas, numpy, urllib, bs4, re, requests  are required \n",
    "#If not installes please install"
   ]
  },
  {
   "cell_type": "code",
   "execution_count": null,
   "metadata": {
    "collapsed": true
   },
   "outputs": [],
   "source": []
  },
  {
   "cell_type": "code",
   "execution_count": 1,
   "metadata": {
    "collapsed": true
   },
   "outputs": [],
   "source": [
    "import pandas as pd\n",
    "import numpy as np\n",
    "import urllib\n",
    "from bs4 import BeautifulSoup\n",
    "import re\n"
   ]
  },
  {
   "cell_type": "code",
   "execution_count": 2,
   "metadata": {
    "collapsed": true
   },
   "outputs": [],
   "source": [
    "# opening link and looking for correct table.\n",
    "link = \"http://bcity.in/wards\"\n",
    "web_page = urllib.request.urlopen(link)\n",
    "soup = BeautifulSoup(web_page,\"lxml\")\n",
    "right_table = soup.find('table',class_='listing')\n",
    "tags = soup.find_all(href=re.compile(\"/wards/\"))\n"
   ]
  },
  {
   "cell_type": "code",
   "execution_count": 3,
   "metadata": {
    "collapsed": true
   },
   "outputs": [],
   "source": [
    "ward_name=[]\n",
    "ward_population=[]\n",
    "ward_area=[]"
   ]
  },
  {
   "cell_type": "code",
   "execution_count": 5,
   "metadata": {
    "collapsed": false,
    "scrolled": true
   },
   "outputs": [
    {
     "name": "stdout",
     "output_type": "stream",
     "text": [
      "0 A Narayanapura\n",
      "1 Adugodi\n",
      "2 Agaram\n",
      "3 Agrahara Dasarahalli\n",
      "4 Anjanapura\n",
      "5 Arakere\n",
      "6 Aramane Nagara\n",
      "7 Attiguppe\n",
      "8 Atturu\n",
      "9 Azad Nagar\n",
      "10 BTM Layout\n",
      "11 Bagalakunte\n",
      "12 Banasavadi\n",
      "13 Banashankari Temple ward\n",
      "14 Bapuji Nagar\n",
      "15 Basavanagudi\n",
      "16 Basavanapura\n",
      "17 Basaveshwara Nagar\n",
      "18 Begur\n",
      "19 Bellanduru\n",
      "20 Benniganahalli\n",
      "21 Bharathi Nagar\n",
      "22 Bilekhalli\n",
      "23 Binnipete\n",
      "24 Bommanahalli\n",
      "25 Byatarayanapura\n",
      "26 Byrasandra\n",
      "27 C V Raman Nagar\n",
      "28 Chalavadipalya\n",
      "29 Chamrajapet\n",
      "30 Chickpete\n",
      "31 Chikkalsandra\n",
      "32 Chokkasandra\n",
      "33 Chowdeswari Ward\n",
      "34 Cottonpete\n",
      "35 Dattatreya Temple\n",
      "36 Dayananda Nagar\n",
      "37 Deepanjali Nagar\n",
      "38 Devara Jeevanahalli\n",
      "39 Devasandra\n",
      "40 Dharmaraya Swamy Temple\n",
      "41 Dodda Bidarakallu\n",
      "42 Dodda Bommasandra\n",
      "43 Dodda Nekkundi\n",
      "44 Domlur\n",
      "45 Dr. Raj Kumar Ward\n",
      "46 Ejipura\n",
      "47 Gali Anjenaya Temple ward\n",
      "48 Gandhinagar\n",
      "49 Ganesh Mandir ward\n",
      "50 Ganga Nagar\n",
      "51 Gangenahalli\n",
      "52 Garudachar Playa\n",
      "53 Gayithri Nagar\n",
      "54 Girinagar\n",
      "55 Gottigere\n",
      "56 Govindaraja Nagar\n",
      "57 Gurappanapalya\n",
      "58 HAL Airport\n",
      "59 HBR Layout\n",
      "60 HMT Ward\n",
      "61 HSR Layout\n",
      "62 Hagadur\n",
      "63 Halsoor\n",
      "64 Hampi Nagar\n",
      "65 Hanumanth Nagar\n",
      "66 Hebbala\n",
      "67 Hegganahalli\n",
      "68 Hemmigepura\n",
      "69 Herohalli\n",
      "70 Hombegowda Nagara\n",
      "71 Hongasandra\n",
      "72 Horamavu\n",
      "73 Hosahalli\n",
      "74 Hosakerehalli\n",
      "75 Hoysala Nagar\n",
      "76 Hudi\n",
      "77 J P Nagar\n",
      "78 J P Park\n",
      "79 Jagajivanaramnagar\n",
      "80 Jakkasandra\n",
      "81 Jakkuru\n",
      "82 Jalahalli\n",
      "83 Jaraganahalli\n",
      "84 Jayachamarajendra Nagar\n",
      "85 Jayamahal\n",
      "86 Jayanagar\n",
      "87 Jayanagar East\n",
      "88 Jeevanbhima Nagar\n",
      "89 Jnana Bharathi ward\n",
      "90 Jogupalya\n",
      "91 K R Market\n",
      "92 K R Puram\n",
      "93 Kacharkanahalli\n",
      "94 Kadu Malleshwar Ward\n",
      "95 Kadugodi\n",
      "96 Kadugondanahalli\n",
      "97 Kamakshipalya\n",
      "98 Kammanahalli\n",
      "99 Karisandra\n",
      "100 Katriguppe\n",
      "101 Kaval Bairasandra\n",
      "102 Kaveripura\n",
      "103 Kempapura Agrahara\n",
      "104 Kempegowda Ward\n",
      "105 Kengeri\n",
      "106 Kodigehalli\n",
      "107 Konankunte\n",
      "108 Konena Agrahara\n",
      "109 Koramangala\n",
      "110 Kottegepalya\n",
      "111 Kumaraswamy Layout\n",
      "112 Kushal Nagar\n",
      "113 Kuvempu Nagar\n",
      "114 Laggere\n",
      "115 Lakkasandra\n",
      "116 Lakshmi Devi Nagar\n",
      "117 Lingarajapura\n",
      "118 Madivala\n",
      "119 Mahalakshimpuram\n",
      "120 Mallasandra\n",
      "121 Malleswaram\n",
      "122 Mangammanapalya\n",
      "123 Manorayanapalya\n",
      "124 Marappana Palya\n",
      "125 Marathahalli\n",
      "126 Marenahalli\n",
      "127 Maruthi Mandir ward\n",
      "128 Maruthi Seva Nagar\n",
      "129 Mattikere\n",
      "130 Mudalapalya\n",
      "131 Muneshwara Nagar\n",
      "132 Nagapura\n",
      "133 Nagarabhavi\n",
      "134 Nagavara\n",
      "135 Nandini Layout\n",
      "136 Nayandahalli\n",
      "137 New Tippasandara\n",
      "138 Nilasandra\n",
      "139 Okalipuram\n",
      "140 Padarayanapura\n",
      "141 Padmanabha Nagar\n",
      "142 Pattabhiram Nagar\n",
      "143 Peenya Industrial Area\n",
      "144 Prakash Nagar\n",
      "145 Pulikeshinagar\n",
      "146 Puttenahalli\n",
      "147 Radhakrishna Temple Ward\n",
      "148 Rajagopal Nagar\n",
      "149 Rajaji Nagar\n",
      "150 Rajamahal Guttahalli\n",
      "151 Rajarajeshwari Nagar\n",
      "152 Ramamurthy Nagar\n",
      "153 Ramaswamy Palya\n",
      "154 Rayapuram\n",
      "155 S K Garden\n",
      "156 Sagayarapuram\n",
      "157 Sampangiram Nagar\n",
      "158 Sanjaya Nagar\n",
      "159 Sarakki\n",
      "160 Sarvagna Nagar\n",
      "161 Shakambari Nagar\n",
      "162 Shakthi Ganapathi Nagar\n",
      "163 Shankar Matt\n",
      "164 Shantala Nagar\n",
      "165 Shanthi Nagar\n",
      "166 Shettihalli\n",
      "167 Shivaji Nagar\n",
      "168 Shivanagara\n",
      "169 Siddapura\n",
      "170 Singasandra\n",
      "171 Srinagar\n",
      "172 Sriramamandir\n",
      "173 Subhash Nagar\n",
      "174 Subramanya Nagar\n",
      "175 Suddagunte Palya\n",
      "176 Sudham Nagara\n",
      "177 Sunkenahalli\n",
      "178 T Dasarahalli\n",
      "179 Thanisandra\n",
      "180 Ullalu\n",
      "181 Uttarahalli\n",
      "182 Vannarpet\n",
      "183 Varthuru\n",
      "184 Vasanth Nagar\n",
      "185 Vasanthpura\n",
      "186 Vidyapeeta ward\n",
      "187 Vidyaranyapura\n",
      "188 Vijayanagar\n",
      "189 Vijnana Nagar\n",
      "190 Vijnanapura\n",
      "191 Vishveshwara Puram\n",
      "192 Vishwanath Nagenahalli\n",
      "193 Vrisabhavathi Nagar\n",
      "194 Yediyur\n",
      "195 Yelahanka Satellite Town\n",
      "196 Yelchenahalli\n",
      "197 Yeshwanthpura\n"
     ]
    }
   ],
   "source": [
    "#this part of code opens the each ward location and retrieves population and area.\n",
    "\n",
    "i=0\n",
    "for tag in tags:\n",
    "    print(i,tag.text)\n",
    "    ward_name.append(tag.text)\n",
    "    ward_link=(\"http://bcity.in/\" + tag['href'])\n",
    "    ward_page=urllib.request.urlopen(ward_link)\n",
    "    wsoup = BeautifulSoup(ward_page,\"lxml\")\n",
    "    ward_table = wsoup.find('table',class_='info')\n",
    "    rows=[]\n",
    "    for row in ward_table.find_all('tr'):\n",
    "        ward_ = []\n",
    "        for cell in row.findAll('td'):\n",
    "            text = cell.text.replace('&nbsp;', '')\n",
    "            ward_.append(text)\n",
    "        rows.append(ward_)\n",
    "    ward_population.append(rows[3][1]) # population was Fourth Data in the table\n",
    "    ward_area.append(rows[4][1])       #area was fifth data in table \n",
    "    i=i+1 \n",
    "    \n",
    "    \n",
    "    \n",
    "    \n",
    "    "
   ]
  },
  {
   "cell_type": "code",
   "execution_count": 6,
   "metadata": {
    "collapsed": true
   },
   "outputs": [],
   "source": [
    "df=pd.DataFrame(ward_name,columns=['Ward_Name'])\n",
    "df['Population']=ward_population\n",
    "df['Area']=ward_area"
   ]
  },
  {
   "cell_type": "code",
   "execution_count": 9,
   "metadata": {
    "collapsed": true
   },
   "outputs": [],
   "source": [
    "import requests"
   ]
  },
  {
   "cell_type": "code",
   "execution_count": 10,
   "metadata": {
    "collapsed": true
   },
   "outputs": [],
   "source": [
    "loc_poly_link=[]"
   ]
  },
  {
   "cell_type": "code",
   "execution_count": 13,
   "metadata": {
    "collapsed": true
   },
   "outputs": [],
   "source": [
    "for w in ward_name:\n",
    "    loc_poly_link.append(\"https://maps.googleapis.com/maps/api/geocode/json?&address=\" + w)"
   ]
  },
  {
   "cell_type": "code",
   "execution_count": 45,
   "metadata": {
    "collapsed": false
   },
   "outputs": [],
   "source": [
    "complete_coor=[]"
   ]
  },
  {
   "cell_type": "code",
   "execution_count": null,
   "metadata": {
    "collapsed": false,
    "scrolled": true
   },
   "outputs": [],
   "source": [
    "count=0\n",
    "for loc_link in loc_poly_link:\n",
    "    print(loc_link)\n",
    "    loc_data = requests.get(loc_link).json()\n",
    "    lis=[]\n",
    "    try:\n",
    "        n_coor_lat=loc_data['results'][0]['geometry']['bounds']['northeast']['lat']\n",
    "        lis.append(n_coor_lat)\n",
    "        n_coor_lng=loc_data['results'][0]['geometry']['bounds']['northeast']['lng']\n",
    "        lis.append(n_coor_lng)\n",
    "        s_coor_lat=loc_data['results'][0]['geometry']['bounds']['southwest']['lat']\n",
    "        lis.append(s_coor_lat)\n",
    "        s_coor_lng=loc_data['results'][0]['geometry']['bounds']['southwest']['lng']\n",
    "        lis.append(s_coor_lng)\n",
    "    except:\n",
    "        print(count,\"Oops!  not in valid format\")\n",
    "    complete_coor.append(lis)\n",
    "    count+=1"
   ]
  },
  {
   "cell_type": "code",
   "execution_count": 67,
   "metadata": {
    "collapsed": true
   },
   "outputs": [],
   "source": [
    "clist=[]"
   ]
  },
  {
   "cell_type": "code",
   "execution_count": 69,
   "metadata": {
    "collapsed": false
   },
   "outputs": [],
   "source": [
    "for p in complete_coor:\n",
    "    str1=''\n",
    "    if(len(p)>0):\n",
    "        str1=(p[0],p[1],p[2],p[3])\n",
    "    clist.append(str1)"
   ]
  },
  {
   "cell_type": "code",
   "execution_count": 71,
   "metadata": {
    "collapsed": true
   },
   "outputs": [],
   "source": [
    "df['Polygon Coordinates']=clist"
   ]
  },
  {
   "cell_type": "code",
   "execution_count": 81,
   "metadata": {
    "collapsed": true
   },
   "outputs": [],
   "source": [
    "df.to_csv(\"E:Final_dataset.csv\",index=False)"
   ]
  },
  {
   "cell_type": "code",
   "execution_count": null,
   "metadata": {
    "collapsed": true
   },
   "outputs": [],
   "source": [
    "# the below code is to retrieve viewport of a ward run it only if needed."
   ]
  },
  {
   "cell_type": "code",
   "execution_count": null,
   "metadata": {
    "collapsed": true
   },
   "outputs": [],
   "source": []
  },
  {
   "cell_type": "code",
   "execution_count": 74,
   "metadata": {
    "collapsed": true
   },
   "outputs": [],
   "source": [
    "complete_coor1=[]"
   ]
  },
  {
   "cell_type": "code",
   "execution_count": null,
   "metadata": {
    "collapsed": false,
    "scrolled": true
   },
   "outputs": [],
   "source": [
    "count=0\n",
    "for loc_link in loc_poly_link:\n",
    "    print(loc_link)\n",
    "    loc_data = requests.get(loc_link).json()\n",
    "    lis=[]\n",
    "    try:\n",
    "        n_coor_lat=loc_data['results'][0]['geometry']['viewport']['northeast']['lat']\n",
    "        lis.append(n_coor_lat)\n",
    "        n_coor_lng=loc_data['results'][0]['geometry']['viewport']['northeast']['lng']\n",
    "        lis.append(n_coor_lng)\n",
    "        s_coor_lat=loc_data['results'][0]['geometry']['viewport']['southwest']['lat']\n",
    "        lis.append(s_coor_lat)\n",
    "        s_coor_lng=loc_data['results'][0]['geometry']['viewport']['southwest']['lng']\n",
    "        lis.append(s_coor_lng)\n",
    "    except:\n",
    "        print(count,\"Oops!  not in valid format\")\n",
    "    complete_coor1.append(lis)\n",
    "    count+=1"
   ]
  },
  {
   "cell_type": "code",
   "execution_count": 78,
   "metadata": {
    "collapsed": false
   },
   "outputs": [],
   "source": [
    "for p in complete_coor1:\n",
    "    str1=''\n",
    "    if(len(p)>0):\n",
    "        str1=(p[0],p[1],p[2],p[3])\n",
    "    clist1.append(str1)"
   ]
  },
  {
   "cell_type": "code",
   "execution_count": 79,
   "metadata": {
    "collapsed": true
   },
   "outputs": [],
   "source": [
    "df['PolygonCoordinates ViewPort']=clist1"
   ]
  },
  {
   "cell_type": "code",
   "execution_count": 77,
   "metadata": {
    "collapsed": true
   },
   "outputs": [],
   "source": [
    "clist1=[]"
   ]
  },
  {
   "cell_type": "code",
   "execution_count": 84,
   "metadata": {
    "collapsed": true
   },
   "outputs": [],
   "source": [
    "df.to_csv(\"E:withviewport2.csv\",index=False)"
   ]
  },
  {
   "cell_type": "code",
   "execution_count": null,
   "metadata": {
    "collapsed": true
   },
   "outputs": [],
   "source": []
  }
 ],
 "metadata": {
  "kernelspec": {
   "display_name": "Python 3",
   "language": "python",
   "name": "python3"
  },
  "language_info": {
   "codemirror_mode": {
    "name": "ipython",
    "version": 3
   },
   "file_extension": ".py",
   "mimetype": "text/x-python",
   "name": "python",
   "nbconvert_exporter": "python",
   "pygments_lexer": "ipython3",
   "version": "3.5.1"
  }
 },
 "nbformat": 4,
 "nbformat_minor": 0
}
